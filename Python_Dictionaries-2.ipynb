{
 "cells": [
  {
   "cell_type": "markdown",
   "id": "bdf240e6",
   "metadata": {},
   "source": [
    "###### Dictionaries\n",
    "* these are so useful in the data world.\n",
    "* we can connect both the lists without using any index.\n",
    "* use curly brackets for the dictionaries{}, and inside the curly brackets you have a bunch of what are called key:value pairs.\n",
    "* colon: seperates the value and key here.\n",
    "* if you want the value of a key just type the key in square brackets insted of index then you can automaticlly get the value of that particular key.\n",
    "* this process isn't intuitive.\n",
    "* keys have to be 'immutable' objects.\n",
    "* each key in the dictionary is unique."
   ]
  },
  {
   "cell_type": "markdown",
   "id": "ded9db33",
   "metadata": {},
   "source": [
    "To see why dictionaries are useful, have a look at the two lists countries contains the names of some European countries. capitals lists the corresponding names of their capital."
   ]
  },
  {
   "cell_type": "code",
   "execution_count": 1,
   "id": "bc87201d",
   "metadata": {},
   "outputs": [
    {
     "name": "stdout",
     "output_type": "stream",
     "text": [
      "berlin\n"
     ]
    }
   ],
   "source": [
    "# Definition of countries and capital\n",
    "countries = ['spain', 'france', 'germany', 'norway']\n",
    "capitals = ['madrid', 'paris', 'berlin', 'oslo']\n",
    "\n",
    "# Use the index() method on countries to find the index of 'germany'. Store this index as ind_ger.\n",
    "\n",
    "ind_ger = countries.index('germany')\n",
    "ind_ger\n",
    "\n",
    "# Use ind_ger to access the capital of Germany from the capitals list. Print it out.\n",
    "\n",
    "print(capitals[ind_ger])"
   ]
  },
  {
   "cell_type": "markdown",
   "id": "969074fa",
   "metadata": {},
   "source": [
    "###### Create dictionary\n",
    "\n",
    "The countries and capitals lists are again available. It's your job to convert this data to a dictionary where the country names are the keys and the capitals are the corresponding values."
   ]
  },
  {
   "cell_type": "code",
   "execution_count": 2,
   "id": "7efaf988",
   "metadata": {},
   "outputs": [
    {
     "name": "stdout",
     "output_type": "stream",
     "text": [
      "{'spain': 'madrid', 'france': 'paris', 'germany': 'berlin', 'norway': 'oslo'}\n"
     ]
    }
   ],
   "source": [
    "# From string in countries and capitals, create dictionary 'europe'\n",
    "europe = {'spain':'madrid', 'france':'paris', 'germany':'berlin', 'norway':'oslo' }\n",
    "\n",
    "# Print europe\n",
    "print(europe)"
   ]
  },
  {
   "cell_type": "markdown",
   "id": "fbeed06f",
   "metadata": {},
   "source": [
    "###### Access Dictionary\n",
    "\n",
    "If the keys of a dictionary are chosen wisely, accessing the values in a dictionary is easy and intuitive. For example, to get the capital for France from europe you can use:"
   ]
  },
  {
   "cell_type": "code",
   "execution_count": 3,
   "id": "8b32cdc5",
   "metadata": {},
   "outputs": [
    {
     "data": {
      "text/plain": [
       "'paris'"
      ]
     },
     "execution_count": 3,
     "metadata": {},
     "output_type": "execute_result"
    }
   ],
   "source": [
    "europe['france'] # Here, 'france' is the key and 'paris' the value is returned."
   ]
  },
  {
   "cell_type": "code",
   "execution_count": 4,
   "id": "b63af7c0",
   "metadata": {},
   "outputs": [
    {
     "name": "stdout",
     "output_type": "stream",
     "text": [
      "dict_keys(['spain', 'france', 'germany', 'norway'])\n",
      "oslo\n"
     ]
    }
   ],
   "source": [
    "# Check out which keys are in europe by calling the keys() method on europe. Print out the result.\n",
    "europe = {'spain':'madrid', 'france':'paris', 'germany':'berlin', 'norway':'oslo' }\n",
    "\n",
    "# Print out the keys in europe\n",
    "print(europe.keys())\n",
    "\n",
    "# Print out value that belongs to key 'norway'\n",
    "print(europe['norway'])"
   ]
  },
  {
   "cell_type": "code",
   "execution_count": 5,
   "id": "34c010b7",
   "metadata": {},
   "outputs": [
    {
     "data": {
      "text/plain": [
       "{'spain': 'madrid',\n",
       " 'france': 'paris',\n",
       " 'germany': 'berlin',\n",
       " 'norway': 'oslo',\n",
       " 'italy': 'rome'}"
      ]
     },
     "execution_count": 5,
     "metadata": {},
     "output_type": "execute_result"
    }
   ],
   "source": [
    "# adding objects to the dictionary\n",
    "\n",
    "europe[\"italy\"] = \"rome\"\n",
    "europe # in the output italy and rome also added to the europe dictionary"
   ]
  },
  {
   "cell_type": "markdown",
   "id": "0501e977",
   "metadata": {},
   "source": [
    "###### List VS Dictionary\n",
    "\n",
    "* we can select, update, and remove in both list and dictionry using []\n",
    "* list is a sequence of values that are indexed by a range of numbers, but dictionary is indexed by unique keys, that can be any immutable type.\n",
    "* we have a collection of values and order matters, and you want to easily select entire subsets of data you'll want to go with a list.\n",
    "* we want some sort of look up table, where looking for data should be fast and where you can specify unique keys, a dictionary is the preferred option.\n"
   ]
  },
  {
   "cell_type": "code",
   "execution_count": 6,
   "id": "62fff417",
   "metadata": {},
   "outputs": [
    {
     "name": "stdout",
     "output_type": "stream",
     "text": [
      "{'spain': 'madrid', 'france': 'paris', 'germany': 'berlin', 'norway': 'oslo', 'italy': 'rome', 'poland': 'warsaw'}\n"
     ]
    }
   ],
   "source": [
    "# Add another key:value pair to europe: 'poland' is the key, 'warsaw' is the corresponding value.\n",
    "\n",
    "europe[\"poland\"] = \"warsaw\"\n",
    "print(europe)"
   ]
  },
  {
   "cell_type": "code",
   "execution_count": 7,
   "id": "57f9ac16",
   "metadata": {},
   "outputs": [
    {
     "name": "stdout",
     "output_type": "stream",
     "text": [
      "True\n"
     ]
    }
   ],
   "source": [
    "print('italy' in europe) # to check whether the given key is in the dictionary or not."
   ]
  },
  {
   "cell_type": "markdown",
   "id": "35c2c664",
   "metadata": {},
   "source": [
    "Can you clean up? Do not do this by adapting the definition of europe, but by adding Python commands to the script to update and remove key:value pairs."
   ]
  },
  {
   "cell_type": "code",
   "execution_count": 8,
   "id": "adcf59a1",
   "metadata": {},
   "outputs": [
    {
     "name": "stdout",
     "output_type": "stream",
     "text": [
      "{'spain': 'madrid', 'france': 'paris', 'germany': 'berlin', 'norway': 'oslo', 'italy': 'rome', 'poland': 'warsaw'}\n"
     ]
    }
   ],
   "source": [
    "europe = {'spain':'madrid', 'france':'paris', 'germany':'bonn',\n",
    "          'norway':'oslo', 'italy':'rome', 'poland':'warsaw',\n",
    "          'australia':'vienna' }\n",
    "\n",
    "# Update capital of germany\n",
    "\n",
    "europe['germany'] = 'berlin' # changed the value of germany\n",
    "europe\n",
    "\n",
    "# Remove australia\n",
    "\n",
    "del(europe['australia'])\n",
    "\n",
    "print(europe)\n"
   ]
  },
  {
   "cell_type": "markdown",
   "id": "36d5b2dc",
   "metadata": {},
   "source": [
    "* lists They could contain anything, even other lists. Well, for dictionaries the same holds. Dictionaries can contain key:value pairs where the values are again dictionaries.\n",
    "* for example, have a look at the script where another version of europe - the dictionary you've been working with all along - is coded. The keys are still the country names, but the values are dictionaries that contain more information than just the capital\n",
    "* It's perfectly possible to chain square brackets to select elements. To fetch the population for Spain from europe, use the below code"
   ]
  },
  {
   "cell_type": "code",
   "execution_count": 9,
   "id": "62bd293a",
   "metadata": {},
   "outputs": [
    {
     "data": {
      "text/plain": [
       "46.77"
      ]
     },
     "execution_count": 9,
     "metadata": {},
     "output_type": "execute_result"
    }
   ],
   "source": [
    "# Dictionary of dictionaries\n",
    "europe = { 'spain': { 'capital':'madrid', 'population':46.77 },\n",
    "           'france': { 'capital':'paris', 'population':66.03 },\n",
    "           'germany': { 'capital':'berlin', 'population':80.62 },\n",
    "           'norway': { 'capital':'oslo', 'population':5.084 } }\n",
    "\n",
    "# to get the population for spain from europe.\n",
    "\n",
    "europe['spain']['population']\n"
   ]
  },
  {
   "cell_type": "code",
   "execution_count": 10,
   "id": "8752b8de",
   "metadata": {},
   "outputs": [
    {
     "name": "stdout",
     "output_type": "stream",
     "text": [
      "paris\n",
      "{'spain': {'capital': 'madrid', 'population': 46.77}, 'france': {'capital': 'paris', 'population': 66.03}, 'germany': {'capital': 'berlin', 'population': 80.62}, 'norway': {'capital': 'oslo', 'population': 5.084}, 'italy': {'capital': 'rome', 'population': 59.83}}\n"
     ]
    }
   ],
   "source": [
    "# Print out the capital of France \n",
    "\n",
    "print(europe['france']['capital'])\n",
    "\n",
    "# Create sub-dictionary named data\n",
    "data = {'capital':'rome', 'population': 59.83}\n",
    "\n",
    "# Add data to europe under key 'italy'\n",
    "europe['italy'] = data\n",
    "\n",
    "# Print europe\n",
    "print(europe)"
   ]
  },
  {
   "cell_type": "code",
   "execution_count": null,
   "id": "25f67280",
   "metadata": {},
   "outputs": [],
   "source": []
  }
 ],
 "metadata": {
  "kernelspec": {
   "display_name": "Python 3 (ipykernel)",
   "language": "python",
   "name": "python3"
  },
  "language_info": {
   "codemirror_mode": {
    "name": "ipython",
    "version": 3
   },
   "file_extension": ".py",
   "mimetype": "text/x-python",
   "name": "python",
   "nbconvert_exporter": "python",
   "pygments_lexer": "ipython3",
   "version": "3.9.7"
  }
 },
 "nbformat": 4,
 "nbformat_minor": 5
}
